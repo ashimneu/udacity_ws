{
 "cells": [
  {
   "cell_type": "code",
   "execution_count": null,
   "metadata": {
    "collapsed": true
   },
   "outputs": [],
   "source": [
    "import matplotlib.pyplot as pyplt\n",
    "import matplotlib.image as mpimg\n",
    "import numpy as np\n",
    "import cv2\n",
    "\n",
    "%matplotlib notebook\n",
    "\n",
    "def perspective_transform(img, src, dst):\n",
    "    M = cv2.getPerspectiveTransform(src, dst)\n",
    "    warped = cv2.warpPerspective(img, M, (img.shape[1], img.shape[0]))\n",
    "    return warped\n",
    "\n",
    "%matplotlib notebook\n",
    "address = '/home/ashim/Desktop/udacity_ws/examplegrid.jpg'\n",
    "image = mpimg.imread(address)\n",
    "\n",
    "source = np.float32([[13.3064,140.855],[118.468,96.9839],[199.758,96.9839],[302.339,140.855]])\n",
    "destination = np.float32([[150,150], [150,140], [160,140 ], [160,150 ]])\n",
    "\n",
    "warped = perspective_transform(image,source,destination)\n",
    "plt.figure(1)\n",
    "plt.imshow(warped)\n",
    "plt.show()\n"
   ]
  }
 ],
 "metadata": {
  "kernelspec": {
   "display_name": "Python [conda env:RoboND]",
   "language": "python",
   "name": "conda-env-RoboND-py"
  },
  "language_info": {
   "codemirror_mode": {
    "name": "ipython",
    "version": 3
   },
   "file_extension": ".py",
   "mimetype": "text/x-python",
   "name": "python",
   "nbconvert_exporter": "python",
   "pygments_lexer": "ipython3",
   "version": "3.5.2"
  }
 },
 "nbformat": 4,
 "nbformat_minor": 2
}
